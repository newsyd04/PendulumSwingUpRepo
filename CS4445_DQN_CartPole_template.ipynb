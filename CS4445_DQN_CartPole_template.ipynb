{
  "cells": [
    {
      "cell_type": "markdown",
      "metadata": {
        "id": "jrN5S-tXyPsM"
      },
      "source": [
        "CS4445 Human Centric Computing: Bio-Inspired Computing\n",
        "Template for Assignment Option 1: DQN CartPole Classic Control\n",
        "\n",
        "This sample code is based on one of the recommended texts. A small number of errors were deliberately injected into the code.\n",
        "\n",
        "If using this code as a basis for Option 1:\n",
        "•\tCorrect the bugs.\n",
        "•\tComment the code extensively.\n",
        "•\tReplace CartPole with a different Classic Control problem form gym.\n",
        "•\tGenerate more informative plots i.e. plot running average.\n",
        "•\tConsider generating an animation.\n",
        "•\tPlay around with hyperparameters and parameters to achieve ‘satisfactory’ performance.\n",
        "\n",
        "A template will NOT be provided for Option 2. Use this template and modify the following (1) shape of obs and actions (2) network structure, (3) storing and processing of experience, etc."
      ]
    },
    {
      "cell_type": "code",
      "execution_count": 1,
      "metadata": {
        "id": "YsWMKk5aVblG"
      },
      "outputs": [],
      "source": [
        "# Provides access to system-specific parameters and functions\n",
        "import sys\n",
        "assert sys.version_info >= (3,10)"
      ]
    },
    {
      "cell_type": "code",
      "execution_count": 2,
      "metadata": {
        "id": "-DmzFH9ka2BG"
      },
      "outputs": [
        {
          "name": "stdout",
          "output_type": "stream",
          "text": [
            "Requirement already satisfied: ipykernel in c:\\users\\rosie\\appdata\\local\\programs\\python\\python311\\lib\\site-packages (6.29.3)\n",
            "Requirement already satisfied: comm>=0.1.1 in c:\\users\\rosie\\appdata\\local\\programs\\python\\python311\\lib\\site-packages (from ipykernel) (0.1.2)\n",
            "Requirement already satisfied: debugpy>=1.6.5 in c:\\users\\rosie\\appdata\\local\\programs\\python\\python311\\lib\\site-packages (from ipykernel) (1.6.5)\n",
            "Requirement already satisfied: ipython>=7.23.1 in c:\\users\\rosie\\appdata\\local\\programs\\python\\python311\\lib\\site-packages (from ipykernel) (8.8.0)\n",
            "Requirement already satisfied: jupyter-client>=6.1.12 in c:\\users\\rosie\\appdata\\local\\programs\\python\\python311\\lib\\site-packages (from ipykernel) (7.4.9)\n",
            "Requirement already satisfied: jupyter-core!=5.0.*,>=4.12 in c:\\users\\rosie\\appdata\\local\\programs\\python\\python311\\lib\\site-packages (from ipykernel) (5.1.3)\n",
            "Requirement already satisfied: matplotlib-inline>=0.1 in c:\\users\\rosie\\appdata\\local\\programs\\python\\python311\\lib\\site-packages (from ipykernel) (0.1.6)\n",
            "Requirement already satisfied: nest-asyncio in c:\\users\\rosie\\appdata\\local\\programs\\python\\python311\\lib\\site-packages (from ipykernel) (1.5.6)\n",
            "Requirement already satisfied: packaging in c:\\users\\rosie\\appdata\\local\\programs\\python\\python311\\lib\\site-packages (from ipykernel) (23.0)\n",
            "Requirement already satisfied: psutil in c:\\users\\rosie\\appdata\\local\\programs\\python\\python311\\lib\\site-packages (from ipykernel) (5.9.4)\n",
            "Requirement already satisfied: pyzmq>=24 in c:\\users\\rosie\\appdata\\local\\programs\\python\\python311\\lib\\site-packages (from ipykernel) (25.0.0)\n",
            "Requirement already satisfied: tornado>=6.1 in c:\\users\\rosie\\appdata\\local\\programs\\python\\python311\\lib\\site-packages (from ipykernel) (6.2)\n",
            "Requirement already satisfied: traitlets>=5.4.0 in c:\\users\\rosie\\appdata\\local\\programs\\python\\python311\\lib\\site-packages (from ipykernel) (5.8.1)\n",
            "Requirement already satisfied: backcall in c:\\users\\rosie\\appdata\\local\\programs\\python\\python311\\lib\\site-packages (from ipython>=7.23.1->ipykernel) (0.2.0)\n",
            "Requirement already satisfied: decorator in c:\\users\\rosie\\appdata\\local\\programs\\python\\python311\\lib\\site-packages (from ipython>=7.23.1->ipykernel) (5.1.1)\n",
            "Requirement already satisfied: jedi>=0.16 in c:\\users\\rosie\\appdata\\local\\programs\\python\\python311\\lib\\site-packages (from ipython>=7.23.1->ipykernel) (0.18.2)\n",
            "Requirement already satisfied: pickleshare in c:\\users\\rosie\\appdata\\local\\programs\\python\\python311\\lib\\site-packages (from ipython>=7.23.1->ipykernel) (0.7.5)\n",
            "Requirement already satisfied: prompt-toolkit<3.1.0,>=3.0.11 in c:\\users\\rosie\\appdata\\local\\programs\\python\\python311\\lib\\site-packages (from ipython>=7.23.1->ipykernel) (3.0.36)\n",
            "Requirement already satisfied: pygments>=2.4.0 in c:\\users\\rosie\\appdata\\local\\programs\\python\\python311\\lib\\site-packages (from ipython>=7.23.1->ipykernel) (2.14.0)\n",
            "Requirement already satisfied: stack-data in c:\\users\\rosie\\appdata\\local\\programs\\python\\python311\\lib\\site-packages (from ipython>=7.23.1->ipykernel) (0.6.2)\n",
            "Requirement already satisfied: colorama in c:\\users\\rosie\\appdata\\local\\programs\\python\\python311\\lib\\site-packages (from ipython>=7.23.1->ipykernel) (0.4.6)\n",
            "Requirement already satisfied: entrypoints in c:\\users\\rosie\\appdata\\local\\programs\\python\\python311\\lib\\site-packages (from jupyter-client>=6.1.12->ipykernel) (0.4)\n",
            "Requirement already satisfied: python-dateutil>=2.8.2 in c:\\users\\rosie\\appdata\\local\\programs\\python\\python311\\lib\\site-packages (from jupyter-client>=6.1.12->ipykernel) (2.8.2)\n",
            "Requirement already satisfied: platformdirs>=2.5 in c:\\users\\rosie\\appdata\\local\\programs\\python\\python311\\lib\\site-packages (from jupyter-core!=5.0.*,>=4.12->ipykernel) (2.6.2)\n",
            "Requirement already satisfied: pywin32>=1.0 in c:\\users\\rosie\\appdata\\local\\programs\\python\\python311\\lib\\site-packages (from jupyter-core!=5.0.*,>=4.12->ipykernel) (305)\n",
            "Requirement already satisfied: parso<0.9.0,>=0.8.0 in c:\\users\\rosie\\appdata\\local\\programs\\python\\python311\\lib\\site-packages (from jedi>=0.16->ipython>=7.23.1->ipykernel) (0.8.3)\n",
            "Requirement already satisfied: wcwidth in c:\\users\\rosie\\appdata\\local\\programs\\python\\python311\\lib\\site-packages (from prompt-toolkit<3.1.0,>=3.0.11->ipython>=7.23.1->ipykernel) (0.2.6)\n",
            "Requirement already satisfied: six>=1.5 in c:\\users\\rosie\\appdata\\local\\programs\\python\\python311\\lib\\site-packages (from python-dateutil>=2.8.2->jupyter-client>=6.1.12->ipykernel) (1.16.0)\n",
            "Requirement already satisfied: executing>=1.2.0 in c:\\users\\rosie\\appdata\\local\\programs\\python\\python311\\lib\\site-packages (from stack-data->ipython>=7.23.1->ipykernel) (1.2.0)\n",
            "Requirement already satisfied: asttokens>=2.1.0 in c:\\users\\rosie\\appdata\\local\\programs\\python\\python311\\lib\\site-packages (from stack-data->ipython>=7.23.1->ipykernel) (2.2.1)\n",
            "Requirement already satisfied: pure-eval in c:\\users\\rosie\\appdata\\local\\programs\\python\\python311\\lib\\site-packages (from stack-data->ipython>=7.23.1->ipykernel) (0.2.2)\n",
            "Note: you may need to restart the kernel to use updated packages.\n"
          ]
        }
      ],
      "source": [
        "# Upgrades the ipykernel package to the latest version. Allows for execution of Python code within Jupyter Notebook\n",
        "%pip install --upgrade ipykernel"
      ]
    },
    {
      "cell_type": "code",
      "execution_count": 3,
      "metadata": {
        "colab": {
          "base_uri": "https://localhost:8080/"
        },
        "id": "WZHRxMcJz2Hi",
        "outputId": "7a4c0ec7-e3dc-4fb4-9ec3-d4826deb7878"
      },
      "outputs": [
        {
          "name": "stdout",
          "output_type": "stream",
          "text": [
            "Note: you may need to restart the kernel to use updated packages.\n"
          ]
        },
        {
          "name": "stderr",
          "output_type": "stream",
          "text": [
            "  error: subprocess-exited-with-error\n",
            "  \n",
            "  × python setup.py egg_info did not run successfully.\n",
            "  │ exit code: 1\n",
            "  ╰─> [77 lines of output]\n",
            "      \n",
            "      \n",
            "      WARNING, No \"Setup\" File Exists, Running \"buildconfig/config.py\"\n",
            "      Using WINDOWS configuration...\n",
            "      \n",
            "      Making dir :prebuilt_downloads:\n",
            "      Downloading... https://www.libsdl.org/release/SDL2-devel-2.0.16-VC.zip 13d952c333f3c2ebe9b7bc0075b4ad2f784e7584\n",
            "      Unzipping :prebuilt_downloads\\SDL2-devel-2.0.16-VC.zip:\n",
            "      Downloading... https://www.libsdl.org/projects/SDL_image/release/SDL2_image-devel-2.0.5-VC.zip 137f86474691f4e12e76e07d58d5920c8d844d5b\n",
            "      Unzipping :prebuilt_downloads\\SDL2_image-devel-2.0.5-VC.zip:\n",
            "      Downloading... https://www.libsdl.org/projects/SDL_ttf/release/SDL2_ttf-devel-2.0.15-VC.zip 1436df41ebc47ac36e02ec9bda5699e80ff9bd27\n",
            "      Unzipping :prebuilt_downloads\\SDL2_ttf-devel-2.0.15-VC.zip:\n",
            "      Downloading... https://www.libsdl.org/projects/SDL_mixer/release/SDL2_mixer-devel-2.0.4-VC.zip 9097148f4529cf19f805ccd007618dec280f0ecc\n",
            "      Unzipping :prebuilt_downloads\\SDL2_mixer-devel-2.0.4-VC.zip:\n",
            "      Downloading... https://www.pygame.org/ftp/jpegsr9d.zip ed10aa2b5a0fcfe74f8a6f7611aeb346b06a1f99\n",
            "      Unzipping :prebuilt_downloads\\jpegsr9d.zip:\n",
            "      Downloading... https://pygame.org/ftp/prebuilt-x64-pygame-1.9.2-20150922.zip 3a5af3427b3aa13a0aaf5c4cb08daaed341613ed\n",
            "      Unzipping :prebuilt_downloads\\prebuilt-x64-pygame-1.9.2-20150922.zip:\n",
            "      copying into .\\prebuilt-x64\n",
            "      Path for SDL: prebuilt-x64\\SDL2-2.0.16\n",
            "      ...Library directory for SDL: prebuilt-x64/SDL2-2.0.16/lib/x64\n",
            "      ...Include directory for SDL: prebuilt-x64/SDL2-2.0.16/include\n",
            "      Path for FONT: prebuilt-x64\\SDL2_ttf-2.0.15\n",
            "      ...Library directory for FONT: prebuilt-x64/SDL2_ttf-2.0.15/lib/x64\n",
            "      ...Include directory for FONT: prebuilt-x64/SDL2_ttf-2.0.15/include\n",
            "      Path for IMAGE: prebuilt-x64\\SDL2_image-2.0.5\n",
            "      ...Library directory for IMAGE: prebuilt-x64/SDL2_image-2.0.5/lib/x64\n",
            "      ...Include directory for IMAGE: prebuilt-x64/SDL2_image-2.0.5/include\n",
            "      Path for MIXER: prebuilt-x64\\SDL2_mixer-2.0.4\n",
            "      ...Library directory for MIXER: prebuilt-x64/SDL2_mixer-2.0.4/lib/x64\n",
            "      ...Include directory for MIXER: prebuilt-x64/SDL2_mixer-2.0.4/include\n",
            "      Path for PORTMIDI: prebuilt-x64\n",
            "      ...Library directory for PORTMIDI: prebuilt-x64/lib\n",
            "      ...Include directory for PORTMIDI: prebuilt-x64/include\n",
            "      DLL for SDL2: prebuilt-x64/SDL2-2.0.16/lib/x64/SDL2.dll\n",
            "      DLL for SDL2_ttf: prebuilt-x64/SDL2_ttf-2.0.15/lib/x64/SDL2_ttf.dll\n",
            "      DLL for SDL2_image: prebuilt-x64/SDL2_image-2.0.5/lib/x64/SDL2_image.dll\n",
            "      DLL for SDL2_mixer: prebuilt-x64/SDL2_mixer-2.0.4/lib/x64/SDL2_mixer.dll\n",
            "      DLL for portmidi: prebuilt-x64/lib/portmidi.dll\n",
            "      Path for FREETYPE not found.\n",
            "      ...Found include dir but no library dir in prebuilt-x64.\n",
            "      Path for PNG not found.\n",
            "      ...Found include dir but no library dir in prebuilt-x64.\n",
            "      Path for JPEG not found.\n",
            "      ...Found include dir but no library dir in prebuilt-x64.\n",
            "      DLL for freetype: prebuilt-x64/SDL2_ttf-2.0.15/lib/x64/libfreetype-6.dll\n",
            "      \n",
            "      ---\n",
            "      For help with compilation see:\n",
            "          https://www.pygame.org/wiki/CompileWindows\n",
            "      To contribute to pygame development see:\n",
            "          https://www.pygame.org/contribute.html\n",
            "      ---\n",
            "      \n",
            "      Traceback (most recent call last):\n",
            "        File \"<string>\", line 2, in <module>\n",
            "        File \"<pip-setuptools-caller>\", line 34, in <module>\n",
            "        File \"C:\\Users\\rosie\\AppData\\Local\\Temp\\pip-install-p6lzdqm6\\pygame_58eeb3a2ec6249218e1eefbdb34662c4\\setup.py\", line 388, in <module>\n",
            "          buildconfig.config.main(AUTO_CONFIG)\n",
            "        File \"C:\\Users\\rosie\\AppData\\Local\\Temp\\pip-install-p6lzdqm6\\pygame_58eeb3a2ec6249218e1eefbdb34662c4\\buildconfig\\config.py\", line 234, in main\n",
            "          deps = CFG.main(**kwds)\n",
            "                 ^^^^^^^^^^^^^^^^\n",
            "        File \"C:\\Users\\rosie\\AppData\\Local\\Temp\\pip-install-p6lzdqm6\\pygame_58eeb3a2ec6249218e1eefbdb34662c4\\buildconfig\\config_win.py\", line 511, in main\n",
            "          return setup_prebuilt_sdl2(prebuilt_dir)\n",
            "                 ^^^^^^^^^^^^^^^^^^^^^^^^^^^^^^^^^\n",
            "        File \"C:\\Users\\rosie\\AppData\\Local\\Temp\\pip-install-p6lzdqm6\\pygame_58eeb3a2ec6249218e1eefbdb34662c4\\buildconfig\\config_win.py\", line 471, in setup_prebuilt_sdl2\n",
            "          DEPS.configure()\n",
            "        File \"C:\\Users\\rosie\\AppData\\Local\\Temp\\pip-install-p6lzdqm6\\pygame_58eeb3a2ec6249218e1eefbdb34662c4\\buildconfig\\config_win.py\", line 336, in configure\n",
            "          from . import vstools\n",
            "        File \"C:\\Users\\rosie\\AppData\\Local\\Temp\\pip-install-p6lzdqm6\\pygame_58eeb3a2ec6249218e1eefbdb34662c4\\buildconfig\\vstools.py\", line 11, in <module>\n",
            "          compiler.initialize()\n",
            "        File \"c:\\Users\\rosie\\AppData\\Local\\Programs\\Python\\Python311\\Lib\\site-packages\\setuptools\\_distutils\\msvc9compiler.py\", line 403, in initialize\n",
            "          vc_env = query_vcvarsall(VERSION, plat_spec)\n",
            "                   ^^^^^^^^^^^^^^^^^^^^^^^^^^^^^^^^^^^\n",
            "        File \"c:\\Users\\rosie\\AppData\\Local\\Programs\\Python\\Python311\\Lib\\site-packages\\setuptools\\_distutils\\msvc9compiler.py\", line 281, in query_vcvarsall\n",
            "          raise DistutilsPlatformError(\"Unable to find vcvarsall.bat\")\n",
            "      distutils.errors.DistutilsPlatformError: Unable to find vcvarsall.bat\n",
            "      [end of output]\n",
            "  \n",
            "  note: This error originates from a subprocess, and is likely not a problem with pip.\n",
            "error: metadata-generation-failed\n",
            "\n",
            "× Encountered error while generating package metadata.\n",
            "╰─> See above for output.\n",
            "\n",
            "note: This is an issue with the package mentioned above, not pip.\n",
            "hint: See above for details.\n"
          ]
        },
        {
          "name": "stdout",
          "output_type": "stream",
          "text": [
            "Note: you may need to restart the kernel to use updated packages.\n",
            "Note: you may need to restart the kernel to use updated packages.\n"
          ]
        },
        {
          "name": "stderr",
          "output_type": "stream",
          "text": [
            "WARNING: gym 0.25.2 does not provide the extra 'pendulum'\n"
          ]
        },
        {
          "name": "stdout",
          "output_type": "stream",
          "text": [
            "Requirement already satisfied: pygame in c:\\users\\rosie\\appdata\\local\\programs\\python\\python311\\lib\\site-packages (2.5.2)\n",
            "Note: you may need to restart the kernel to use updated packages.\n",
            "Requirement already satisfied: numpy in c:\\users\\rosie\\appdata\\local\\programs\\python\\python311\\lib\\site-packages (1.24.1)\n",
            "Note: you may need to restart the kernel to use updated packages.\n",
            "Requirement already satisfied: matplotlib in c:\\users\\rosie\\appdata\\local\\programs\\python\\python311\\lib\\site-packages (3.8.3)\n",
            "Requirement already satisfied: contourpy>=1.0.1 in c:\\users\\rosie\\appdata\\local\\programs\\python\\python311\\lib\\site-packages (from matplotlib) (1.2.0)\n",
            "Requirement already satisfied: cycler>=0.10 in c:\\users\\rosie\\appdata\\local\\programs\\python\\python311\\lib\\site-packages (from matplotlib) (0.12.1)\n",
            "Requirement already satisfied: fonttools>=4.22.0 in c:\\users\\rosie\\appdata\\local\\programs\\python\\python311\\lib\\site-packages (from matplotlib) (4.49.0)\n",
            "Requirement already satisfied: kiwisolver>=1.3.1 in c:\\users\\rosie\\appdata\\local\\programs\\python\\python311\\lib\\site-packages (from matplotlib) (1.4.5)\n",
            "Requirement already satisfied: numpy<2,>=1.21 in c:\\users\\rosie\\appdata\\local\\programs\\python\\python311\\lib\\site-packages (from matplotlib) (1.24.1)\n",
            "Requirement already satisfied: packaging>=20.0 in c:\\users\\rosie\\appdata\\local\\programs\\python\\python311\\lib\\site-packages (from matplotlib) (23.0)\n",
            "Requirement already satisfied: pillow>=8 in c:\\users\\rosie\\appdata\\local\\programs\\python\\python311\\lib\\site-packages (from matplotlib) (10.2.0)\n",
            "Requirement already satisfied: pyparsing>=2.3.1 in c:\\users\\rosie\\appdata\\local\\programs\\python\\python311\\lib\\site-packages (from matplotlib) (3.1.2)\n",
            "Requirement already satisfied: python-dateutil>=2.7 in c:\\users\\rosie\\appdata\\local\\programs\\python\\python311\\lib\\site-packages (from matplotlib) (2.8.2)\n",
            "Requirement already satisfied: six>=1.5 in c:\\users\\rosie\\appdata\\local\\programs\\python\\python311\\lib\\site-packages (from python-dateutil>=2.7->matplotlib) (1.16.0)\n",
            "Note: you may need to restart the kernel to use updated packages.\n",
            "Requirement already satisfied: tensorflow in c:\\users\\rosie\\appdata\\local\\programs\\python\\python311\\lib\\site-packages (2.16.1)\n",
            "Requirement already satisfied: tensorflow-intel==2.16.1 in c:\\users\\rosie\\appdata\\local\\programs\\python\\python311\\lib\\site-packages (from tensorflow) (2.16.1)\n",
            "Requirement already satisfied: absl-py>=1.0.0 in c:\\users\\rosie\\appdata\\local\\programs\\python\\python311\\lib\\site-packages (from tensorflow-intel==2.16.1->tensorflow) (2.1.0)\n",
            "Requirement already satisfied: astunparse>=1.6.0 in c:\\users\\rosie\\appdata\\local\\programs\\python\\python311\\lib\\site-packages (from tensorflow-intel==2.16.1->tensorflow) (1.6.3)\n",
            "Requirement already satisfied: flatbuffers>=23.5.26 in c:\\users\\rosie\\appdata\\local\\programs\\python\\python311\\lib\\site-packages (from tensorflow-intel==2.16.1->tensorflow) (24.3.7)\n",
            "Requirement already satisfied: gast!=0.5.0,!=0.5.1,!=0.5.2,>=0.2.1 in c:\\users\\rosie\\appdata\\local\\programs\\python\\python311\\lib\\site-packages (from tensorflow-intel==2.16.1->tensorflow) (0.5.4)\n",
            "Requirement already satisfied: google-pasta>=0.1.1 in c:\\users\\rosie\\appdata\\local\\programs\\python\\python311\\lib\\site-packages (from tensorflow-intel==2.16.1->tensorflow) (0.2.0)\n",
            "Requirement already satisfied: h5py>=3.10.0 in c:\\users\\rosie\\appdata\\local\\programs\\python\\python311\\lib\\site-packages (from tensorflow-intel==2.16.1->tensorflow) (3.10.0)\n",
            "Requirement already satisfied: libclang>=13.0.0 in c:\\users\\rosie\\appdata\\local\\programs\\python\\python311\\lib\\site-packages (from tensorflow-intel==2.16.1->tensorflow) (16.0.6)\n",
            "Requirement already satisfied: ml-dtypes~=0.3.1 in c:\\users\\rosie\\appdata\\local\\programs\\python\\python311\\lib\\site-packages (from tensorflow-intel==2.16.1->tensorflow) (0.3.2)\n",
            "Requirement already satisfied: opt-einsum>=2.3.2 in c:\\users\\rosie\\appdata\\local\\programs\\python\\python311\\lib\\site-packages (from tensorflow-intel==2.16.1->tensorflow) (3.3.0)\n",
            "Requirement already satisfied: packaging in c:\\users\\rosie\\appdata\\local\\programs\\python\\python311\\lib\\site-packages (from tensorflow-intel==2.16.1->tensorflow) (23.0)\n",
            "Requirement already satisfied: protobuf!=4.21.0,!=4.21.1,!=4.21.2,!=4.21.3,!=4.21.4,!=4.21.5,<5.0.0dev,>=3.20.3 in c:\\users\\rosie\\appdata\\local\\programs\\python\\python311\\lib\\site-packages (from tensorflow-intel==2.16.1->tensorflow) (4.25.3)\n",
            "Requirement already satisfied: requests<3,>=2.21.0 in c:\\users\\rosie\\appdata\\local\\programs\\python\\python311\\lib\\site-packages (from tensorflow-intel==2.16.1->tensorflow) (2.30.0)\n",
            "Requirement already satisfied: setuptools in c:\\users\\rosie\\appdata\\local\\programs\\python\\python311\\lib\\site-packages (from tensorflow-intel==2.16.1->tensorflow) (65.5.0)\n",
            "Requirement already satisfied: six>=1.12.0 in c:\\users\\rosie\\appdata\\local\\programs\\python\\python311\\lib\\site-packages (from tensorflow-intel==2.16.1->tensorflow) (1.16.0)\n",
            "Requirement already satisfied: termcolor>=1.1.0 in c:\\users\\rosie\\appdata\\local\\programs\\python\\python311\\lib\\site-packages (from tensorflow-intel==2.16.1->tensorflow) (2.4.0)\n",
            "Requirement already satisfied: typing-extensions>=3.6.6 in c:\\users\\rosie\\appdata\\local\\programs\\python\\python311\\lib\\site-packages (from tensorflow-intel==2.16.1->tensorflow) (4.10.0)\n",
            "Requirement already satisfied: wrapt>=1.11.0 in c:\\users\\rosie\\appdata\\local\\programs\\python\\python311\\lib\\site-packages (from tensorflow-intel==2.16.1->tensorflow) (1.16.0)\n",
            "Requirement already satisfied: grpcio<2.0,>=1.24.3 in c:\\users\\rosie\\appdata\\local\\programs\\python\\python311\\lib\\site-packages (from tensorflow-intel==2.16.1->tensorflow) (1.62.1)\n",
            "Requirement already satisfied: tensorboard<2.17,>=2.16 in c:\\users\\rosie\\appdata\\local\\programs\\python\\python311\\lib\\site-packages (from tensorflow-intel==2.16.1->tensorflow) (2.16.2)\n",
            "Requirement already satisfied: keras>=3.0.0 in c:\\users\\rosie\\appdata\\local\\programs\\python\\python311\\lib\\site-packages (from tensorflow-intel==2.16.1->tensorflow) (3.0.5)\n",
            "Requirement already satisfied: tensorflow-io-gcs-filesystem>=0.23.1 in c:\\users\\rosie\\appdata\\local\\programs\\python\\python311\\lib\\site-packages (from tensorflow-intel==2.16.1->tensorflow) (0.31.0)\n",
            "Requirement already satisfied: numpy<2.0.0,>=1.23.5 in c:\\users\\rosie\\appdata\\local\\programs\\python\\python311\\lib\\site-packages (from tensorflow-intel==2.16.1->tensorflow) (1.24.1)\n",
            "Requirement already satisfied: wheel<1.0,>=0.23.0 in c:\\users\\rosie\\appdata\\local\\programs\\python\\python311\\lib\\site-packages (from astunparse>=1.6.0->tensorflow-intel==2.16.1->tensorflow) (0.43.0)\n",
            "Requirement already satisfied: rich in c:\\users\\rosie\\appdata\\local\\programs\\python\\python311\\lib\\site-packages (from keras>=3.0.0->tensorflow-intel==2.16.1->tensorflow) (13.7.1)\n",
            "Requirement already satisfied: namex in c:\\users\\rosie\\appdata\\local\\programs\\python\\python311\\lib\\site-packages (from keras>=3.0.0->tensorflow-intel==2.16.1->tensorflow) (0.0.7)\n",
            "Requirement already satisfied: dm-tree in c:\\users\\rosie\\appdata\\local\\programs\\python\\python311\\lib\\site-packages (from keras>=3.0.0->tensorflow-intel==2.16.1->tensorflow) (0.1.8)\n",
            "Requirement already satisfied: charset-normalizer<4,>=2 in c:\\users\\rosie\\appdata\\local\\programs\\python\\python311\\lib\\site-packages (from requests<3,>=2.21.0->tensorflow-intel==2.16.1->tensorflow) (3.1.0)\n",
            "Requirement already satisfied: idna<4,>=2.5 in c:\\users\\rosie\\appdata\\local\\programs\\python\\python311\\lib\\site-packages (from requests<3,>=2.21.0->tensorflow-intel==2.16.1->tensorflow) (3.4)\n",
            "Requirement already satisfied: urllib3<3,>=1.21.1 in c:\\users\\rosie\\appdata\\local\\programs\\python\\python311\\lib\\site-packages (from requests<3,>=2.21.0->tensorflow-intel==2.16.1->tensorflow) (2.0.2)\n",
            "Requirement already satisfied: certifi>=2017.4.17 in c:\\users\\rosie\\appdata\\local\\programs\\python\\python311\\lib\\site-packages (from requests<3,>=2.21.0->tensorflow-intel==2.16.1->tensorflow) (2022.12.7)\n",
            "Requirement already satisfied: markdown>=2.6.8 in c:\\users\\rosie\\appdata\\local\\programs\\python\\python311\\lib\\site-packages (from tensorboard<2.17,>=2.16->tensorflow-intel==2.16.1->tensorflow) (3.6)\n",
            "Requirement already satisfied: tensorboard-data-server<0.8.0,>=0.7.0 in c:\\users\\rosie\\appdata\\local\\programs\\python\\python311\\lib\\site-packages (from tensorboard<2.17,>=2.16->tensorflow-intel==2.16.1->tensorflow) (0.7.2)\n",
            "Requirement already satisfied: werkzeug>=1.0.1 in c:\\users\\rosie\\appdata\\local\\programs\\python\\python311\\lib\\site-packages (from tensorboard<2.17,>=2.16->tensorflow-intel==2.16.1->tensorflow) (2.2.3)\n",
            "Requirement already satisfied: MarkupSafe>=2.1.1 in c:\\users\\rosie\\appdata\\local\\programs\\python\\python311\\lib\\site-packages (from werkzeug>=1.0.1->tensorboard<2.17,>=2.16->tensorflow-intel==2.16.1->tensorflow) (2.1.2)\n",
            "Requirement already satisfied: markdown-it-py>=2.2.0 in c:\\users\\rosie\\appdata\\local\\programs\\python\\python311\\lib\\site-packages (from rich->keras>=3.0.0->tensorflow-intel==2.16.1->tensorflow) (3.0.0)\n",
            "Requirement already satisfied: pygments<3.0.0,>=2.13.0 in c:\\users\\rosie\\appdata\\local\\programs\\python\\python311\\lib\\site-packages (from rich->keras>=3.0.0->tensorflow-intel==2.16.1->tensorflow) (2.14.0)\n",
            "Requirement already satisfied: mdurl~=0.1 in c:\\users\\rosie\\appdata\\local\\programs\\python\\python311\\lib\\site-packages (from markdown-it-py>=2.2.0->rich->keras>=3.0.0->tensorflow-intel==2.16.1->tensorflow) (0.1.2)\n",
            "Note: you may need to restart the kernel to use updated packages.\n"
          ]
        }
      ],
      "source": [
        "# Installs gym with classic control environments\n",
        "%pip install -q -U gym[classic_control]==0.25.2\n",
        "\n",
        "# Installs gym with environments requiring acceptance of ROM license\n",
        "%pip install -q -U gym[accept-rom-license]==0.25.2\n",
        "\n",
        "# Installs gym with pendulum environments\n",
        "%pip install -q -U gym[pendulum]==0.25.2\n",
        "\n",
        "# Library for game development\n",
        "%pip install pygame\n",
        "\n",
        "# Library for numerical computation\n",
        "%pip install numpy\n",
        "\n",
        "# Library for data visualization\n",
        "%pip install matplotlib\n",
        "\n",
        "# Library for machine learning and neural networks\n",
        "%pip install tensorflow"
      ]
    },
    {
      "cell_type": "code",
      "execution_count": 4,
      "metadata": {
        "id": "HZNHiDw8Vskj"
      },
      "outputs": [],
      "source": [
        "import os\n",
        "# Set the environment variable SDL_VIDEODRIVER to 'dummy' to disable video output for gym\n",
        "os.environ['SDL_VIDEODRIVER'] = 'dummy'\n",
        "import gym\n",
        "import matplotlib.animation\n",
        "import matplotlib.pyplot as plt\n",
        "import numpy as np\n",
        "import pygame"
      ]
    },
    {
      "cell_type": "code",
      "execution_count": 5,
      "metadata": {
        "colab": {
          "base_uri": "https://localhost:8080/"
        },
        "id": "1fLi1dN70ZSo",
        "outputId": "68ec09e6-22c7-49a0-e73e-f8c49ebf4169"
      },
      "outputs": [],
      "source": [
        "from packaging import version\n",
        "import tensorflow as tf\n",
        "\n",
        "assert version.parse(tf.__version__) >= version.parse(\"2.15.0\")"
      ]
    },
    {
      "cell_type": "code",
      "execution_count": 6,
      "metadata": {
        "colab": {
          "base_uri": "https://localhost:8080/"
        },
        "id": "RGmjxgKS1TB4",
        "outputId": "902a78d3-2ac0-457a-aa35-e9246ad9cae9"
      },
      "outputs": [
        {
          "name": "stdout",
          "output_type": "stream",
          "text": [
            "Get a GPU ......\n"
          ]
        }
      ],
      "source": [
        "# Check if TensorFlow is configured to use a GPU for computation.\n",
        "if not tf.config.list_physical_devices('GPU'):\n",
        "    print(\"Get a GPU ......\")"
      ]
    },
    {
      "cell_type": "code",
      "execution_count": 7,
      "metadata": {
        "colab": {
          "base_uri": "https://localhost:8080/"
        },
        "id": "xYckAkrSAbf9",
        "outputId": "ca893f33-1511-4961-8619-aeaed27273de"
      },
      "outputs": [
        {
          "data": {
            "text/plain": [
              "['Acrobot-v1',\n",
              " 'Ant-v2',\n",
              " 'Ant-v3',\n",
              " 'Ant-v4',\n",
              " 'BipedalWalker-v3',\n",
              " 'BipedalWalkerHardcore-v3',\n",
              " 'Blackjack-v1',\n",
              " 'CarRacing-v2',\n",
              " 'CartPole-v0',\n",
              " 'CartPole-v1',\n",
              " '...']"
            ]
          },
          "execution_count": 7,
          "metadata": {},
          "output_type": "execute_result"
        }
      ],
      "source": [
        "# Lists environments in gym alphabetically\n",
        "envs = gym.envs.registry\n",
        "sorted(envs.keys())[:10] + [\"...\"]"
      ]
    },
    {
      "cell_type": "code",
      "execution_count": 8,
      "metadata": {
        "colab": {
          "base_uri": "https://localhost:8080/"
        },
        "id": "RGWq_v5CLg0T",
        "outputId": "a6e6046a-6ded-429a-8a80-e337b650ae44"
      },
      "outputs": [
        {
          "data": {
            "text/plain": [
              "EnvSpec(id='CartPole-v1', entry_point='gym.envs.classic_control.cartpole:CartPoleEnv', reward_threshold=475.0, nondeterministic=False, max_episode_steps=500, order_enforce=True, autoreset=False, disable_env_checker=False, new_step_api=False, kwargs={}, namespace=None, name='CartPole', version=1)"
            ]
          },
          "execution_count": 8,
          "metadata": {},
          "output_type": "execute_result"
        }
      ],
      "source": [
        "envs['CartPole-v1']"
      ]
    },
    {
      "cell_type": "code",
      "execution_count": 9,
      "metadata": {
        "colab": {
          "base_uri": "https://localhost:8080/"
        },
        "id": "DxjW-r-MKoQe",
        "outputId": "198a43cf-3af7-46ad-9833-13745538ff1e"
      },
      "outputs": [
        {
          "name": "stderr",
          "output_type": "stream",
          "text": [
            "c:\\Users\\rosie\\AppData\\Local\\Programs\\Python\\Python311\\Lib\\site-packages\\gym\\core.py:317: DeprecationWarning: \u001b[33mWARN: Initializing wrapper in old step API which returns one bool instead of two. It is recommended to set `new_step_api=True` to use new step API. This will be the default behaviour in future.\u001b[0m\n",
            "  deprecation(\n",
            "c:\\Users\\rosie\\AppData\\Local\\Programs\\Python\\Python311\\Lib\\site-packages\\gym\\wrappers\\step_api_compatibility.py:39: DeprecationWarning: \u001b[33mWARN: Initializing environment in old step API which returns one bool instead of two. It is recommended to set `new_step_api=True` to use new step API. This will be the default behaviour in future.\u001b[0m\n",
            "  deprecation(\n"
          ]
        }
      ],
      "source": [
        "new_step_API=True\n",
        "env = gym.make('CartPole-v1', render_mode='rgb_array')"
      ]
    },
    {
      "cell_type": "code",
      "execution_count": 10,
      "metadata": {
        "colab": {
          "base_uri": "https://localhost:8080/"
        },
        "id": "CEfEzwvfLygj",
        "outputId": "7b66a8e0-1e1b-4cd3-d2d4-d698c199d254"
      },
      "outputs": [
        {
          "name": "stdout",
          "output_type": "stream",
          "text": [
            "[ 0.02727336  0.18847767  0.03625453 -0.26141977]\n",
            "1.0\n",
            "False\n",
            "{}\n"
          ]
        },
        {
          "name": "stderr",
          "output_type": "stream",
          "text": [
            "c:\\Users\\rosie\\AppData\\Local\\Programs\\Python\\Python311\\Lib\\site-packages\\gym\\utils\\passive_env_checker.py:241: DeprecationWarning: `np.bool8` is a deprecated alias for `np.bool_`.  (Deprecated NumPy 1.24)\n",
            "  if not isinstance(terminated, (bool, np.bool8)):\n"
          ]
        }
      ],
      "source": [
        "obs = env.reset(seed=42)\n",
        "obs\n",
        "\n",
        "for e in env.step(1):\n",
        "    print(e)"
      ]
    },
    {
      "cell_type": "code",
      "execution_count": 11,
      "metadata": {
        "id": "QINr5SpkOGQs"
      },
      "outputs": [],
      "source": [
        "pygame.init()\n",
        "pygame.display.list_modes()\n",
        "env.reset(seed=42)\n",
        "img = env.render()"
      ]
    },
    {
      "cell_type": "code",
      "execution_count": 12,
      "metadata": {
        "id": "a0VeF1MgAbgI"
      },
      "outputs": [
        {
          "name": "stderr",
          "output_type": "stream",
          "text": [
            "c:\\Users\\rosie\\AppData\\Local\\Programs\\Python\\Python311\\Lib\\site-packages\\keras\\src\\layers\\core\\dense.py:85: UserWarning: Do not pass an `input_shape`/`input_dim` argument to a layer. When using Sequential models, prefer using an `Input(shape)` object as the first layer in the model instead.\n",
            "  super().__init__(activity_regularizer=activity_regularizer, **kwargs)\n"
          ]
        }
      ],
      "source": [
        "tf.random.set_seed(42)\n",
        "\n",
        "input_shape = [4]\n",
        "n_outputs = 2\n",
        "\n",
        "model = tf.keras.Sequential([\n",
        "    tf.keras.layers.Dense(24, activation=\"sigmoid\", input_shape=input_shape),\n",
        "    tf.keras.layers.Dense(24, activation=\"sigmoid\"),\n",
        "    tf.keras.layers.Dense(n_outputs)\n",
        "])"
      ]
    },
    {
      "cell_type": "code",
      "execution_count": 13,
      "metadata": {
        "id": "ufL_3oeQerUQ"
      },
      "outputs": [],
      "source": [
        "def epsilon_greedy_policy(state, epsilon=0):\n",
        "    if np.random.rand() >= epsilon:\n",
        "        return np.random.randint(n_outputs)\n",
        "    else:\n",
        "        Q_values = model.predict(state[np.newaxis], verbose=0)[0]\n",
        "        return Q_values.argmax()"
      ]
    },
    {
      "cell_type": "code",
      "execution_count": 14,
      "metadata": {
        "id": "vkSLrWtzAbgJ"
      },
      "outputs": [],
      "source": [
        "from collections import deque\n",
        "\n",
        "replay_buffer = deque(maxlen=400)"
      ]
    },
    {
      "cell_type": "code",
      "execution_count": 15,
      "metadata": {
        "id": "Cq90Qzi-e1cr"
      },
      "outputs": [],
      "source": [
        "def sample_experiences(batch_size):\n",
        "    indices = np.random.randint(len(replay_buffer), size=batch_size)\n",
        "    batch = [replay_buffer[index] for index in indices]\n",
        "    return [\n",
        "        np.array([experience[field_index] for experience in batch])\n",
        "        for field_index in range(5)\n",
        "    ]  # [states, actions, rewards, next_states, dones, truncateds]"
      ]
    },
    {
      "cell_type": "code",
      "execution_count": 16,
      "metadata": {
        "id": "I23qmwWTe57u"
      },
      "outputs": [],
      "source": [
        "def play_one_step(env, state, epsilon):\n",
        "    action = epsilon_greedy_policy(state, epsilon)\n",
        "    next_state, reward, done, info = env.step(action)\n",
        "    replay_buffer.append((state, action, reward, next_state, done))\n",
        "    return next_state, reward, done, info"
      ]
    },
    {
      "cell_type": "code",
      "execution_count": 17,
      "metadata": {
        "id": "A-m0Wly6e_tu"
      },
      "outputs": [],
      "source": [
        "env.reset(seed=42)\n",
        "np.random.seed(42)\n",
        "tf.random.set_seed(42)\n",
        "rewards = []\n",
        "best_score = 0"
      ]
    },
    {
      "cell_type": "code",
      "execution_count": 18,
      "metadata": {
        "id": "A_A5RNI-fEBO"
      },
      "outputs": [],
      "source": [
        "batch_size = 32\n",
        "discount_factor = 0.95\n",
        "optimizer = tf.keras.optimizers.Nadam(learning_rate=1e-2)\n",
        "loss_fn = tf.keras.losses.mean_squared_error\n",
        "\n",
        "def training_step(batch_size):\n",
        "    experiences = sample_experiences(batch_size)\n",
        "    states, actions, rewards, next_states, dones = experiences\n",
        "    next_Q_values = model.predict(next_states, verbose=0)\n",
        "    min_next_Q_values = next_Q_values.min(axis=1)\n",
        "    runs = 1.0 - (dones)\n",
        "    target_Q_values = rewards + runs * discount_factor * min_next_Q_values\n",
        "    target_Q_values = target_Q_values.reshape(-1, 1)\n",
        "    mask = tf.one_hot(actions, n_outputs)\n",
        "    with tf.GradientTape() as tape:\n",
        "        all_Q_values = model(states)\n",
        "        Q_values = tf.reduce_sum(all_Q_values * mask, axis=1, keepdims=True)\n",
        "        loss = tf.reduce_mean(loss_fn(target_Q_values, Q_values))\n",
        "\n",
        "    grads = tape.gradient(loss, model.trainable_variables)\n",
        "    optimizer.apply_gradients(zip(grads, model.trainable_variables))"
      ]
    },
    {
      "cell_type": "code",
      "execution_count": 19,
      "metadata": {
        "colab": {
          "base_uri": "https://localhost:8080/"
        },
        "id": "GpFLe4PMfJHS",
        "outputId": "3dbd9ef0-3400-4853-c951-745f2e8d62cb"
      },
      "outputs": [
        {
          "name": "stdout",
          "output_type": "stream",
          "text": [
            "Episode: 162, Steps: 15, eps: 0.500"
          ]
        }
      ],
      "source": [
        "for episode in range(300):\n",
        "    obs = env.reset()\n",
        "    for step in range(200):\n",
        "        epsilon = 0.5\n",
        "        obs, reward, done, info  = play_one_step(env,obs, epsilon)\n",
        "        if done:\n",
        "            break\n",
        "    print(f\"\\rEpisode: {episode + 1}, Steps: {step + 1}, eps: {epsilon:.3f}\",\n",
        "          end=\"\")\n",
        "    rewards.append(step)\n",
        "    if step >= best_score:\n",
        "        best_weights = model.get_weights()\n",
        "        best_score = step\n",
        "\n",
        "    if episode > 50:\n",
        "        training_step(batch_size)\n",
        "\n",
        "model.set_weights(best_weights)"
      ]
    },
    {
      "cell_type": "code",
      "execution_count": null,
      "metadata": {
        "colab": {
          "base_uri": "https://localhost:8080/",
          "height": 395
        },
        "id": "ACB-1hd3AbgL",
        "outputId": "7df57acc-c4a0-4e52-fa47-113a7d6db249"
      },
      "outputs": [
        {
          "data": {
            "image/png": "[encoded data removed]",
            "text/plain": [
              "<Figure size 800x400 with 1 Axes>"
            ]
          },
          "metadata": {},
          "output_type": "display_data"
        }
      ],
      "source": [
        "plt.figure(figsize=(8, 4))\n",
        "plt.plot(rewards)\n",
        "plt.xlabel(\" \", fontsize=14)\n",
        "plt.ylabel(\" \", fontsize=14)\n",
        "plt.grid(True)\n",
        "plt.show()"
      ]
    }
  ],
  "metadata": {
    "accelerator": "GPU",
    "colab": {
      "gpuType": "T4",
      "provenance": []
    },
    "kernelspec": {
      "display_name": "Python 3",
      "name": "python3"
    },
    "language_info": {
      "codemirror_mode": {
        "name": "ipython",
        "version": 3
      },
      "file_extension": ".py",
      "mimetype": "text/x-python",
      "name": "python",
      "nbconvert_exporter": "python",
      "pygments_lexer": "ipython3",
      "version": "3.11.1"
    }
  },
  "nbformat": 4,
  "nbformat_minor": 0
}
